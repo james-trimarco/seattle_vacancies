{
 "cells": [
  {
   "cell_type": "markdown",
   "metadata": {},
   "source": [
    "# Seattle Vacancy Rates"
   ]
  },
  {
   "cell_type": "markdown",
   "metadata": {},
   "source": [
    "## Setup"
   ]
  },
  {
   "cell_type": "markdown",
   "metadata": {},
   "source": [
    "### Import Python packages"
   ]
  },
  {
   "cell_type": "code",
   "execution_count": 9,
   "metadata": {},
   "outputs": [],
   "source": [
    "import pandas as pd\n",
    "import censusdata\n",
    "import seaborn as sns"
   ]
  },
  {
   "cell_type": "markdown",
   "metadata": {},
   "source": [
    "## Check out how information on vacancy is stored\n",
    "There are exactly 22 variables in the 2015 American Community Survey that were related to the concept \"vacancy.\" "
   ]
  },
  {
   "cell_type": "code",
   "execution_count": 2,
   "metadata": {},
   "outputs": [
    {
     "data": {
      "text/plain": [
       "22"
      ]
     },
     "execution_count": 2,
     "metadata": {},
     "output_type": "execute_result"
    }
   ],
   "source": [
    "samples = censusdata.search('acs5', 2015, 'concept', 'vacancy')\n",
    "len(samples)"
   ]
  },
  {
   "cell_type": "markdown",
   "metadata": {},
   "source": [
    "Here's a look at all of the vacancy-related information in ACS 2015."
   ]
  },
  {
   "cell_type": "code",
   "execution_count": 3,
   "metadata": {},
   "outputs": [
    {
     "name": "stdout",
     "output_type": "stream",
     "text": [
      "('B25004_001E', 'B25004.  Vacancy Status', 'Total:')\n",
      "('B25004_001M', 'B25004.  Vacancy Status', 'Margin Of Error For!!Total:')\n",
      "('B25004_002E', 'B25004.  Vacancy Status', 'For rent')\n",
      "('B25004_002M', 'B25004.  Vacancy Status', 'Margin Of Error For!!For rent')\n",
      "('B25004_003E', 'B25004.  Vacancy Status', 'Rented, not occupied')\n",
      "('B25004_003M', 'B25004.  Vacancy Status', 'Margin Of Error For!!Rented, not occupied')\n",
      "('B25004_004E', 'B25004.  Vacancy Status', 'For sale only')\n",
      "('B25004_004M', 'B25004.  Vacancy Status', 'Margin Of Error For!!For sale only')\n",
      "('B25004_005E', 'B25004.  Vacancy Status', 'Sold, not occupied')\n",
      "('B25004_005M', 'B25004.  Vacancy Status', 'Margin Of Error For!!Sold, not occupied')\n",
      "('B25004_006E', 'B25004.  Vacancy Status', 'For seasonal, recreational, or occasional use')\n",
      "('B25004_006M', 'B25004.  Vacancy Status', 'Margin Of Error For!!For seasonal, recreational, or occasional use')\n",
      "('B25004_007E', 'B25004.  Vacancy Status', 'For migrant workers')\n",
      "('B25004_007M', 'B25004.  Vacancy Status', 'Margin Of Error For!!For migrant workers')\n",
      "('B25004_008E', 'B25004.  Vacancy Status', 'Other vacant')\n",
      "('B25004_008M', 'B25004.  Vacancy Status', 'Margin Of Error For!!Other vacant')\n",
      "('B99253_001E', 'B99253.  IMPUTATION OF VACANCY STATUS', 'Total:')\n",
      "('B99253_001M', 'B99253.  IMPUTATION OF VACANCY STATUS', 'Margin Of Error For!!Total:')\n",
      "('B99253_002E', 'B99253.  IMPUTATION OF VACANCY STATUS', 'Imputed')\n",
      "('B99253_002M', 'B99253.  IMPUTATION OF VACANCY STATUS', 'Margin Of Error For!!Imputed')\n",
      "('B99253_003E', 'B99253.  IMPUTATION OF VACANCY STATUS', 'Not imputed')\n",
      "('B99253_003M', 'B99253.  IMPUTATION OF VACANCY STATUS', 'Margin Of Error For!!Not imputed')\n"
     ]
    }
   ],
   "source": [
    "for item in samples:\n",
    "    print(item)"
   ]
  },
  {
   "cell_type": "markdown",
   "metadata": {},
   "source": [
    "Here's a detailed table of just the information in table B25004. I think for the most part these are the variables we'll be most interested in. I'm not sure why we don't see margins of error here, though. We will definitely want those. "
   ]
  },
  {
   "cell_type": "code",
   "execution_count": 4,
   "metadata": {},
   "outputs": [
    {
     "name": "stdout",
     "output_type": "stream",
     "text": [
      "Variable     | Table                          | Label                                                    | Type \n",
      "-------------------------------------------------------------------------------------------------------------------\n",
      "B25004_001E  | B25004.  Vacancy Status        | Total:                                                   | int  \n",
      "B25004_002E  | B25004.  Vacancy Status        | For rent                                                 | int  \n",
      "B25004_003E  | B25004.  Vacancy Status        | Rented, not occupied                                     | int  \n",
      "B25004_004E  | B25004.  Vacancy Status        | For sale only                                            | int  \n",
      "B25004_005E  | B25004.  Vacancy Status        | Sold, not occupied                                       | int  \n",
      "B25004_006E  | B25004.  Vacancy Status        | For seasonal, recreational, or occasional use            | int  \n",
      "B25004_007E  | B25004.  Vacancy Status        | For migrant workers                                      | int  \n",
      "B25004_008E  | B25004.  Vacancy Status        | Other vacant                                             | int  \n",
      "-------------------------------------------------------------------------------------------------------------------\n"
     ]
    }
   ],
   "source": [
    "censusdata.printtable(censusdata.censustable('acs5', 2015, 'B25004'))"
   ]
  },
  {
   "cell_type": "markdown",
   "metadata": {},
   "source": [
    "## Zoom in on King County"
   ]
  },
  {
   "cell_type": "markdown",
   "metadata": {},
   "source": [
    "### Let's start by getting the FIPS number for Washington State"
   ]
  },
  {
   "cell_type": "code",
   "execution_count": 5,
   "metadata": {},
   "outputs": [
    {
     "data": {
      "text/plain": [
       "censusgeo((('state', '53'),))"
      ]
     },
     "execution_count": 5,
     "metadata": {},
     "output_type": "execute_result"
    }
   ],
   "source": [
    "states = censusdata.geographies(censusdata.censusgeo([(\"state\", \"*\")]), \"acs5\", 2015)\n",
    "states[\"Washington\"]"
   ]
  },
  {
   "cell_type": "markdown",
   "metadata": {},
   "source": [
    "### Then we'll get the FIPS number for King County"
   ]
  },
  {
   "cell_type": "code",
   "execution_count": 6,
   "metadata": {},
   "outputs": [
    {
     "data": {
      "text/plain": [
       "censusgeo((('state', '53'), ('county', '033')))"
      ]
     },
     "execution_count": 6,
     "metadata": {},
     "output_type": "execute_result"
    }
   ],
   "source": [
    "counties = censusdata.geographies(\n",
    "    censusdata.censusgeo([(\"state\", \"53\"), (\"county\", \"*\")]), \"acs5\", 2015\n",
    ")\n",
    "counties[\"King County, Washington\"]"
   ]
  },
  {
   "cell_type": "markdown",
   "metadata": {},
   "source": [
    "### Download and store all King County census tracts"
   ]
  },
  {
   "cell_type": "code",
   "execution_count": 7,
   "metadata": {},
   "outputs": [],
   "source": [
    "king_vac = censusdata.download(\n",
    "    \"acs5\",\n",
    "    2015,\n",
    "    censusdata.censusgeo([(\"state\", \"53\"), (\"county\", \"033\"), (\"block group\", \"*\")]),\n",
    "    [\n",
    "        \"B25004_001E\",\n",
    "        \"B25004_002E\",\n",
    "        \"B25004_003E\",\n",
    "        \"B25004_004E\",\n",
    "        \"B25004_005E\",\n",
    "        \"B25004_006E\",\n",
    "        \"B25004_007E\",\n",
    "    ],\n",
    ")"
   ]
  },
  {
   "cell_type": "markdown",
   "metadata": {},
   "source": [
    "### Print and sort by \"Sold, not occupied\"\n",
    "Note the large numbers of dwellings that are sold but not occupied in King County census tracts 70, 96, and 67. \n",
    "\n",
    "We'll want to compare this other number — perhaps with the total number of dwellings and total number of people — to put these numbers in context. "
   ]
  },
  {
   "cell_type": "code",
   "execution_count": 46,
   "metadata": {},
   "outputs": [
    {
     "data": {
      "text/html": [
       "<div>\n",
       "<style scoped>\n",
       "    .dataframe tbody tr th:only-of-type {\n",
       "        vertical-align: middle;\n",
       "    }\n",
       "\n",
       "    .dataframe tbody tr th {\n",
       "        vertical-align: top;\n",
       "    }\n",
       "\n",
       "    .dataframe thead th {\n",
       "        text-align: right;\n",
       "    }\n",
       "</style>\n",
       "<table border=\"1\" class=\"dataframe\">\n",
       "  <thead>\n",
       "    <tr style=\"text-align: right;\">\n",
       "      <th></th>\n",
       "      <th>B25004_001E</th>\n",
       "      <th>B25004_002E</th>\n",
       "      <th>B25004_003E</th>\n",
       "      <th>B25004_004E</th>\n",
       "      <th>B25004_005E</th>\n",
       "      <th>B25004_006E</th>\n",
       "      <th>B25004_007E</th>\n",
       "    </tr>\n",
       "  </thead>\n",
       "  <tbody>\n",
       "    <tr>\n",
       "      <th>Block Group 4, Census Tract 67, King County, Washington: Summary level: 150, state:53&gt; county:033&gt; tract:006700&gt; block group:4</th>\n",
       "      <td>144</td>\n",
       "      <td>0</td>\n",
       "      <td>0</td>\n",
       "      <td>0</td>\n",
       "      <td>77</td>\n",
       "      <td>15</td>\n",
       "      <td>0</td>\n",
       "    </tr>\n",
       "    <tr>\n",
       "      <th>Block Group 4, Census Tract 96, King County, Washington: Summary level: 150, state:53&gt; county:033&gt; tract:009600&gt; block group:4</th>\n",
       "      <td>113</td>\n",
       "      <td>0</td>\n",
       "      <td>0</td>\n",
       "      <td>0</td>\n",
       "      <td>85</td>\n",
       "      <td>0</td>\n",
       "      <td>0</td>\n",
       "    </tr>\n",
       "    <tr>\n",
       "      <th>Block Group 2, Census Tract 70, King County, Washington: Summary level: 150, state:53&gt; county:033&gt; tract:007000&gt; block group:2</th>\n",
       "      <td>87</td>\n",
       "      <td>0</td>\n",
       "      <td>0</td>\n",
       "      <td>0</td>\n",
       "      <td>87</td>\n",
       "      <td>0</td>\n",
       "      <td>0</td>\n",
       "    </tr>\n",
       "  </tbody>\n",
       "</table>\n",
       "</div>"
      ],
      "text/plain": [
       "                                                    B25004_001E  B25004_002E  \\\n",
       "Block Group 4, Census Tract 67, King County, Wa...          144            0   \n",
       "Block Group 4, Census Tract 96, King County, Wa...          113            0   \n",
       "Block Group 2, Census Tract 70, King County, Wa...           87            0   \n",
       "\n",
       "                                                    B25004_003E  B25004_004E  \\\n",
       "Block Group 4, Census Tract 67, King County, Wa...            0            0   \n",
       "Block Group 4, Census Tract 96, King County, Wa...            0            0   \n",
       "Block Group 2, Census Tract 70, King County, Wa...            0            0   \n",
       "\n",
       "                                                    B25004_005E  B25004_006E  \\\n",
       "Block Group 4, Census Tract 67, King County, Wa...           77           15   \n",
       "Block Group 4, Census Tract 96, King County, Wa...           85            0   \n",
       "Block Group 2, Census Tract 70, King County, Wa...           87            0   \n",
       "\n",
       "                                                    B25004_007E  \n",
       "Block Group 4, Census Tract 67, King County, Wa...            0  \n",
       "Block Group 4, Census Tract 96, King County, Wa...            0  \n",
       "Block Group 2, Census Tract 70, King County, Wa...            0  "
      ]
     },
     "execution_count": 46,
     "metadata": {},
     "output_type": "execute_result"
    }
   ],
   "source": [
    "king_vac.sort_values(['B25004_005E']).tail(3)"
   ]
  },
  {
   "cell_type": "markdown",
   "metadata": {},
   "source": [
    "## Histograms"
   ]
  },
  {
   "cell_type": "markdown",
   "metadata": {},
   "source": [
    "### \"For rent\"\n",
    "This category, of apartments that are empty because they are simply for rent, is the distribution with the fattest tail. This is the most numerous type of vacancy. "
   ]
  },
  {
   "cell_type": "code",
   "execution_count": 38,
   "metadata": {},
   "outputs": [
    {
     "data": {
      "image/png": "[encoded data removed]",
      "text/plain": [
       "<Figure size 432x288 with 1 Axes>"
      ]
     },
     "metadata": {
      "needs_background": "light"
     },
     "output_type": "display_data"
    }
   ],
   "source": [
    "total = king_vac['B25004_002E'].sum()\n",
    "\n",
    "ax = sns.histplot(data=king_vac, x='B25004_002E', binwidth=10)\n",
    "_ = ax.set(xlim=(0, 100), title=f\"Distribution of 'For rent' (n={total:,})\")"
   ]
  },
  {
   "cell_type": "markdown",
   "metadata": {},
   "source": [
    "### \"Rented, not occupied\"\n",
    "This is one of the less numerous categories. I'd like to see us talk to the Census Bureau and find out how long an apartment in this category is typically vacant. Just at the moment of the census? Or does it have to be an extended vacancy?"
   ]
  },
  {
   "cell_type": "code",
   "execution_count": 41,
   "metadata": {},
   "outputs": [
    {
     "data": {
      "image/png": "[encoded data removed]",
      "text/plain": [
       "<Figure size 432x288 with 1 Axes>"
      ]
     },
     "metadata": {
      "needs_background": "light"
     },
     "output_type": "display_data"
    }
   ],
   "source": [
    "total = king_vac['B25004_003E'].sum()\n",
    "\n",
    "ax = sns.histplot(data=king_vac, x='B25004_003E', binwidth=10)\n",
    "_ = ax.set(xlim=(0, 100), title=f\"Rented, not occupied' (n={total:,})\")"
   ]
  },
  {
   "cell_type": "markdown",
   "metadata": {},
   "source": [
    "### \"Sold, not occupied\"\n",
    "This is the category that I (James) was most interested in from the start. If someone is buying apartments as investments and leaving them vacant, this is where I'd expect to find them. There aren't many of these, but I want to know how long they remain in this state."
   ]
  },
  {
   "cell_type": "code",
   "execution_count": 43,
   "metadata": {},
   "outputs": [
    {
     "data": {
      "image/png": "[encoded data removed]",
      "text/plain": [
       "<Figure size 432x288 with 1 Axes>"
      ]
     },
     "metadata": {
      "needs_background": "light"
     },
     "output_type": "display_data"
    }
   ],
   "source": [
    "total = king_vac['B25004_005E'].sum()\n",
    "\n",
    "ax = sns.histplot(data=king_vac, x='B25004_005E', binwidth=10)\n",
    "_ = ax.set(xlim=(0, 100), title=f\"Distribution of 'Sold, not occupied' (n={total:,})\")"
   ]
  },
  {
   "cell_type": "code",
   "execution_count": 44,
   "metadata": {},
   "outputs": [
    {
     "data": {
      "image/png": "[encoded data removed]",
      "text/plain": [
       "<Figure size 432x288 with 1 Axes>"
      ]
     },
     "metadata": {
      "needs_background": "light"
     },
     "output_type": "display_data"
    }
   ],
   "source": [
    "total = king_vac['B25004_006E'].sum()\n",
    "\n",
    "ax = sns.histplot(data=king_vac, x='B25004_006E', binwidth=10)\n",
    "_ = ax.set(xlim=(0, 100), title=f\"Distribution of 'For seasonal, recreational, or occasional use' (n={total:,})\")"
   ]
  },
  {
   "cell_type": "code",
   "execution_count": null,
   "metadata": {},
   "outputs": [],
   "source": []
  },
  {
   "cell_type": "code",
   "execution_count": null,
   "metadata": {},
   "outputs": [],
   "source": []
  }
 ],
 "metadata": {
  "kernelspec": {
   "display_name": "Python 3",
   "language": "python",
   "name": "python3"
  },
  "language_info": {
   "codemirror_mode": {
    "name": "ipython",
    "version": 3
   },
   "file_extension": ".py",
   "mimetype": "text/x-python",
   "name": "python",
   "nbconvert_exporter": "python",
   "pygments_lexer": "ipython3",
   "version": "3.7.8"
  },
  "toc": {
   "base_numbering": 1,
   "nav_menu": {},
   "number_sections": true,
   "sideBar": true,
   "skip_h1_title": false,
   "title_cell": "Table of Contents",
   "title_sidebar": "Contents",
   "toc_cell": false,
   "toc_position": {},
   "toc_section_display": true,
   "toc_window_display": true
  }
 },
 "nbformat": 4,
 "nbformat_minor": 4
}
